{
 "cells": [
  {
   "cell_type": "markdown",
   "metadata": {},
   "source": [
    "<h1 style=\"color:DodgerBlue\">Индивидальный проект</h1>"
   ]
  },
  {
   "cell_type": "markdown",
   "metadata": {},
   "source": [
    "<h2 style=\"color:DodgerBlue\">Название проекта:</h2>\n",
    "\n",
    "----\n",
    "\n",
    "### Вариант задания № 23\n",
    "\n"
   ]
  },
  {
   "cell_type": "markdown",
   "metadata": {},
   "source": [
    "<h2 style=\"color:DodgerBlue\">Описание проекта:</h2>\n",
    "\n",
    "----\n",
    "\n",
    "Описание задачи:\n",
    "Создать базовый класс Task в C#, который будет представлять задачи внутри\n",
    "проекта. На основе этого класса разработать 2-3 производных класса,\n",
    "демонстрирующих принципы наследования и полиморфизма. В каждом из классов\n",
    "должны быть реализованы новые атрибуты и методы, а также переопределены\n",
    "некоторые методы базового класса для демонстрации полиморфизма.\n",
    "Требования к базовому классу Task:\n",
    "• Атрибуты: ID задачи (TaskId), Название задачи (TaskName), Приоритет\n",
    "задачи (Priority).\n",
    "• Методы:\n",
    "o MarkAsComplete(): метод для отметки задачи как выполненной.\n",
    "o GetTaskDetails(): метод для получения деталей задачи.\n",
    "o ReassignTo(): метод для переназначения задачи другому члену\n",
    "команды.\n",
    "Требования к производным классам:\n",
    "1. ДелегатскаяЗадача (DelegateTask): Должна содержать дополнительные\n",
    "атрибуты, такие как Дата выполнения (DueDate).\n",
    "Метод MarkAsComplete() должен быть переопределен для включения даты\n",
    "выполнения в сообщение о завершении задачи.\n",
    "2. КоманднаяЗадача (TeamTask): Должна содержать дополнительные атрибуты,\n",
    "такие как Команда (TeamName). Метод ReassignTo() должен быть\n",
    "переопределен для указания нового члена команды, которому будет\n",
    "переназначена задача.\n",
    "3. ИсследовательскаяЗадача (ResearchTask) (если требуется третий класс):\n",
    "Должна содержать дополнительные атрибуты, такие как Исходные данные\n",
    "(DataSource). Метод GetTaskDetails() должен быть переопределен для\n",
    "отображения источников данных, используемых в задаче, вместе с другими\n",
    "деталями задачи."
   ]
  },
  {
   "cell_type": "markdown",
   "metadata": {},
   "source": [
    "<h2 style=\"color:DodgerBlue\">Реализация:</h2>\n",
    "\n",
    "----"
   ]
  },
  {
   "cell_type": "code",
   "execution_count": 2,
   "metadata": {
    "dotnet_interactive": {
     "language": "csharp"
    },
    "polyglot_notebook": {
     "kernelName": "csharp"
    }
   },
   "outputs": [
    {
     "name": "stdout",
     "output_type": "stream",
     "text": [
      "Детали: Задача 1535 'Купить Кока-Колу'. Приоритет: Низкий.\n",
      "Задача 1535 'Купить Кока-Колу' была переназначена пользователю Петя.\n",
      "Задача 1535 'Купить Кока-Колу' отмечена как выполненная.\n",
      "\n",
      "Детали: Задача 1536 'Выпить Кока-Колу'. Приоритет: Средний.\n",
      "Задача 1536 'Выпить Кока-Колу' была переназначена пользователю Данил.\n",
      "Задача 1536 'Выпить Кока-Колу' отмечена как выполненная 9/13/2024 12:00:00 AM.\n",
      "\n",
      "Детали: Задача 1537 'Выкинуть банку в мусор'. Приоритет: Средний.\n",
      "Задача 1537 'Выкинуть банку в мусор' Была переназначена новому члену команды NAVI - Саша.\n",
      "Задача 1537 'Выкинуть банку в мусор' отмечена как выполненная.\n",
      "\n",
      "Детали: Задача 1538 'Купить новый напиток'. Приоритет: Высокий. Исходные данные: Кока-Кола не очень вкусная.\n",
      "Задача 1538 'Купить новый напиток' была переназначена пользователю Женя.\n",
      "Задача 1538 'Купить новый напиток' отмечена как выполненная.\n",
      "\n"
     ]
    }
   ],
   "source": [
    "public class Task\n",
    "{\n",
    "    public int TaskId;\n",
    "    public string TaskName;\n",
    "    public Priority Priority;\n",
    "    \n",
    "\n",
    "    public Task(int id, string name, Priority priority)\n",
    "    {\n",
    "        TaskId = id;\n",
    "        TaskName = name;\n",
    "        Priority = priority;\n",
    "    }\n",
    "\n",
    "    public virtual void MarkAsComplete()\n",
    "    {\n",
    "        Console.WriteLine($\"Задача {TaskId} '{TaskName}' отмечена как выполненная.\");\n",
    "    }\n",
    "\n",
    "    public virtual string GetTaskDetails()\n",
    "    {\n",
    "        return $\"Детали: Задача {TaskId} '{TaskName}'. Приоритет: {Priority}.\";\n",
    "    }\n",
    "    \n",
    "    public virtual void ReassignTo(string newAssignee)\n",
    "    {\n",
    "        Console.WriteLine($\"Задача {TaskId} '{TaskName}' была переназначена пользователю {newAssignee}.\");\n",
    "    }\n",
    "\n",
    "}\n",
    "\n",
    "public enum Priority\n",
    "{\n",
    "    Низкий,\n",
    "    Средний,\n",
    "    Высокий\n",
    "}\n",
    "\n",
    "public class DelegateTask : Task\n",
    "{\n",
    "    public DateTime DueDate;\n",
    "    public DelegateTask(int taskId, string taskName, Priority priority, DateTime DueDate)\n",
    "    : base(taskId, taskName, priority)\n",
    "    {\n",
    "        this.DueDate = DueDate;\n",
    "    }\n",
    "\n",
    "    public override void MarkAsComplete()\n",
    "    {\n",
    "        Console.WriteLine($\"Задача {TaskId} '{TaskName}' отмечена как выполненная {DueDate}.\");\n",
    "    }\n",
    "}\n",
    "\n",
    "public class TeamTask : Task\n",
    "{\n",
    "    public string TeamName;\n",
    "    public TeamTask(int id, string taskName, Priority priority, string teamName)\n",
    "        : base(id, taskName, priority)\n",
    "    {\n",
    "        TeamName = teamName;\n",
    "    }\n",
    "\n",
    "\n",
    "    public override void ReassignTo(string newAssignee)\n",
    "    {\n",
    "        Console.WriteLine($\"Задача {TaskId} '{TaskName}' Была переназначена новому члену команды {TeamName} - {newAssignee}.\");\n",
    "    }\n",
    "}\n",
    "\n",
    "public class ResearchTask : Task\n",
    "{\n",
    "    public string DataSource;\n",
    "    public ResearchTask(int id, string taskName, Priority priority, string dataSource)\n",
    "        : base(id, taskName, priority)\n",
    "        {\n",
    "            DataSource = dataSource;\n",
    "        }\n",
    "\n",
    "    public override string GetTaskDetails()\n",
    "    {\n",
    "        return $\"Детали: Задача {TaskId} '{TaskName}'. Приоритет: {Priority}. Исходные данные: {DataSource}.\";\n",
    "    }\n",
    "}\n",
    "\n",
    "Task task = new Task(1535, \"Купить Кока-Колу\", Priority.Низкий);\n",
    "\n",
    "Console.WriteLine(task.GetTaskDetails());\n",
    "task.ReassignTo(\"Петя\");\n",
    "task.MarkAsComplete();\n",
    "Console.WriteLine();\n",
    "\n",
    "DelegateTask delegateTask = new DelegateTask(1536, \"Выпить Кока-Колу\", Priority.Средний, DateTime.Parse(\"09.13.2024\"));\n",
    "Console.WriteLine(delegateTask.GetTaskDetails());\n",
    "delegateTask.ReassignTo(\"Данил\");\n",
    "delegateTask.MarkAsComplete();\n",
    "Console.WriteLine();\n",
    "\n",
    "TeamTask teamTask = new TeamTask(1537, \"Выкинуть банку в мусор\", Priority.Средний, \"NAVI\");\n",
    "Console.WriteLine(teamTask.GetTaskDetails());\n",
    "teamTask.ReassignTo(\"Саша\");\n",
    "teamTask.MarkAsComplete();\n",
    "Console.WriteLine();\n",
    "\n",
    "ResearchTask researchTask = new ResearchTask(1538, \"Купить новый напиток\", Priority.Высокий, \"Кока-Кола не очень вкусная\");\n",
    "Console.WriteLine(researchTask.GetTaskDetails());\n",
    "researchTask.ReassignTo(\"Женя\");\n",
    "researchTask.MarkAsComplete();\n",
    "Console.WriteLine();"
   ]
  },
  {
   "cell_type": "code",
   "execution_count": null,
   "metadata": {},
   "outputs": [],
   "source": []
  }
 ],
 "metadata": {
  "kernelspec": {
   "display_name": ".NET (C#)",
   "language": "C#",
   "name": ".net-csharp"
  },
  "polyglot_notebook": {
   "kernelInfo": {
    "defaultKernelName": "csharp",
    "items": [
     {
      "aliases": [],
      "languageName": "csharp",
      "name": "csharp"
     }
    ]
   }
  }
 },
 "nbformat": 4,
 "nbformat_minor": 2
}
